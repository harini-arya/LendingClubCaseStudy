{
 "cells": [
  {
   "cell_type": "markdown",
   "id": "27d9bd96",
   "metadata": {},
   "source": [
    "# Lending Club Case Study"
   ]
  },
  {
   "cell_type": "code",
   "execution_count": null,
   "id": "373668dd",
   "metadata": {},
   "outputs": [],
   "source": []
  },
  {
   "cell_type": "markdown",
   "id": "bc317ec2",
   "metadata": {},
   "source": [
    "### Importing required modules"
   ]
  },
  {
   "cell_type": "code",
   "execution_count": 68,
   "id": "bc474ee7",
   "metadata": {},
   "outputs": [],
   "source": [
    "import pandas as pd\n",
    "import numpy as np\n",
    "import seaborn as sns\n",
    "import matplotlib.pyplot as plt"
   ]
  },
  {
   "cell_type": "code",
   "execution_count": 40,
   "id": "8bb809f4",
   "metadata": {},
   "outputs": [],
   "source": [
    "import warnings\n",
    "warnings.filterwarnings('ignore')"
   ]
  },
  {
   "cell_type": "markdown",
   "id": "1d020558",
   "metadata": {},
   "source": [
    "### Loading the Data"
   ]
  },
  {
   "cell_type": "code",
   "execution_count": 41,
   "id": "d99f8fb2",
   "metadata": {},
   "outputs": [],
   "source": [
    "loan_data = pd.read_csv(r\"C:\\Users\\DELL\\Downloads\\loan.csv\")"
   ]
  },
  {
   "cell_type": "markdown",
   "id": "0c2bf6dc",
   "metadata": {},
   "source": [
    "### Understanding the Data"
   ]
  },
  {
   "cell_type": "code",
   "execution_count": 42,
   "id": "334767ea",
   "metadata": {},
   "outputs": [
    {
     "data": {
      "text/html": [
       "<div>\n",
       "<style scoped>\n",
       "    .dataframe tbody tr th:only-of-type {\n",
       "        vertical-align: middle;\n",
       "    }\n",
       "\n",
       "    .dataframe tbody tr th {\n",
       "        vertical-align: top;\n",
       "    }\n",
       "\n",
       "    .dataframe thead th {\n",
       "        text-align: right;\n",
       "    }\n",
       "</style>\n",
       "<table border=\"1\" class=\"dataframe\">\n",
       "  <thead>\n",
       "    <tr style=\"text-align: right;\">\n",
       "      <th></th>\n",
       "      <th>id</th>\n",
       "      <th>member_id</th>\n",
       "      <th>loan_amnt</th>\n",
       "      <th>funded_amnt</th>\n",
       "      <th>funded_amnt_inv</th>\n",
       "      <th>term</th>\n",
       "      <th>int_rate</th>\n",
       "      <th>installment</th>\n",
       "      <th>grade</th>\n",
       "      <th>sub_grade</th>\n",
       "      <th>...</th>\n",
       "      <th>num_tl_90g_dpd_24m</th>\n",
       "      <th>num_tl_op_past_12m</th>\n",
       "      <th>pct_tl_nvr_dlq</th>\n",
       "      <th>percent_bc_gt_75</th>\n",
       "      <th>pub_rec_bankruptcies</th>\n",
       "      <th>tax_liens</th>\n",
       "      <th>tot_hi_cred_lim</th>\n",
       "      <th>total_bal_ex_mort</th>\n",
       "      <th>total_bc_limit</th>\n",
       "      <th>total_il_high_credit_limit</th>\n",
       "    </tr>\n",
       "  </thead>\n",
       "  <tbody>\n",
       "    <tr>\n",
       "      <th>0</th>\n",
       "      <td>1077501</td>\n",
       "      <td>1296599</td>\n",
       "      <td>5000</td>\n",
       "      <td>5000</td>\n",
       "      <td>4975.0</td>\n",
       "      <td>36 months</td>\n",
       "      <td>10.65%</td>\n",
       "      <td>162.87</td>\n",
       "      <td>B</td>\n",
       "      <td>B2</td>\n",
       "      <td>...</td>\n",
       "      <td>NaN</td>\n",
       "      <td>NaN</td>\n",
       "      <td>NaN</td>\n",
       "      <td>NaN</td>\n",
       "      <td>0.0</td>\n",
       "      <td>0.0</td>\n",
       "      <td>NaN</td>\n",
       "      <td>NaN</td>\n",
       "      <td>NaN</td>\n",
       "      <td>NaN</td>\n",
       "    </tr>\n",
       "    <tr>\n",
       "      <th>1</th>\n",
       "      <td>1077430</td>\n",
       "      <td>1314167</td>\n",
       "      <td>2500</td>\n",
       "      <td>2500</td>\n",
       "      <td>2500.0</td>\n",
       "      <td>60 months</td>\n",
       "      <td>15.27%</td>\n",
       "      <td>59.83</td>\n",
       "      <td>C</td>\n",
       "      <td>C4</td>\n",
       "      <td>...</td>\n",
       "      <td>NaN</td>\n",
       "      <td>NaN</td>\n",
       "      <td>NaN</td>\n",
       "      <td>NaN</td>\n",
       "      <td>0.0</td>\n",
       "      <td>0.0</td>\n",
       "      <td>NaN</td>\n",
       "      <td>NaN</td>\n",
       "      <td>NaN</td>\n",
       "      <td>NaN</td>\n",
       "    </tr>\n",
       "    <tr>\n",
       "      <th>2</th>\n",
       "      <td>1077175</td>\n",
       "      <td>1313524</td>\n",
       "      <td>2400</td>\n",
       "      <td>2400</td>\n",
       "      <td>2400.0</td>\n",
       "      <td>36 months</td>\n",
       "      <td>15.96%</td>\n",
       "      <td>84.33</td>\n",
       "      <td>C</td>\n",
       "      <td>C5</td>\n",
       "      <td>...</td>\n",
       "      <td>NaN</td>\n",
       "      <td>NaN</td>\n",
       "      <td>NaN</td>\n",
       "      <td>NaN</td>\n",
       "      <td>0.0</td>\n",
       "      <td>0.0</td>\n",
       "      <td>NaN</td>\n",
       "      <td>NaN</td>\n",
       "      <td>NaN</td>\n",
       "      <td>NaN</td>\n",
       "    </tr>\n",
       "    <tr>\n",
       "      <th>3</th>\n",
       "      <td>1076863</td>\n",
       "      <td>1277178</td>\n",
       "      <td>10000</td>\n",
       "      <td>10000</td>\n",
       "      <td>10000.0</td>\n",
       "      <td>36 months</td>\n",
       "      <td>13.49%</td>\n",
       "      <td>339.31</td>\n",
       "      <td>C</td>\n",
       "      <td>C1</td>\n",
       "      <td>...</td>\n",
       "      <td>NaN</td>\n",
       "      <td>NaN</td>\n",
       "      <td>NaN</td>\n",
       "      <td>NaN</td>\n",
       "      <td>0.0</td>\n",
       "      <td>0.0</td>\n",
       "      <td>NaN</td>\n",
       "      <td>NaN</td>\n",
       "      <td>NaN</td>\n",
       "      <td>NaN</td>\n",
       "    </tr>\n",
       "    <tr>\n",
       "      <th>4</th>\n",
       "      <td>1075358</td>\n",
       "      <td>1311748</td>\n",
       "      <td>3000</td>\n",
       "      <td>3000</td>\n",
       "      <td>3000.0</td>\n",
       "      <td>60 months</td>\n",
       "      <td>12.69%</td>\n",
       "      <td>67.79</td>\n",
       "      <td>B</td>\n",
       "      <td>B5</td>\n",
       "      <td>...</td>\n",
       "      <td>NaN</td>\n",
       "      <td>NaN</td>\n",
       "      <td>NaN</td>\n",
       "      <td>NaN</td>\n",
       "      <td>0.0</td>\n",
       "      <td>0.0</td>\n",
       "      <td>NaN</td>\n",
       "      <td>NaN</td>\n",
       "      <td>NaN</td>\n",
       "      <td>NaN</td>\n",
       "    </tr>\n",
       "  </tbody>\n",
       "</table>\n",
       "<p>5 rows × 111 columns</p>\n",
       "</div>"
      ],
      "text/plain": [
       "        id  member_id  loan_amnt  funded_amnt  funded_amnt_inv        term  \\\n",
       "0  1077501    1296599       5000         5000           4975.0   36 months   \n",
       "1  1077430    1314167       2500         2500           2500.0   60 months   \n",
       "2  1077175    1313524       2400         2400           2400.0   36 months   \n",
       "3  1076863    1277178      10000        10000          10000.0   36 months   \n",
       "4  1075358    1311748       3000         3000           3000.0   60 months   \n",
       "\n",
       "  int_rate  installment grade sub_grade  ... num_tl_90g_dpd_24m  \\\n",
       "0   10.65%       162.87     B        B2  ...                NaN   \n",
       "1   15.27%        59.83     C        C4  ...                NaN   \n",
       "2   15.96%        84.33     C        C5  ...                NaN   \n",
       "3   13.49%       339.31     C        C1  ...                NaN   \n",
       "4   12.69%        67.79     B        B5  ...                NaN   \n",
       "\n",
       "  num_tl_op_past_12m pct_tl_nvr_dlq  percent_bc_gt_75 pub_rec_bankruptcies  \\\n",
       "0                NaN            NaN               NaN                  0.0   \n",
       "1                NaN            NaN               NaN                  0.0   \n",
       "2                NaN            NaN               NaN                  0.0   \n",
       "3                NaN            NaN               NaN                  0.0   \n",
       "4                NaN            NaN               NaN                  0.0   \n",
       "\n",
       "  tax_liens tot_hi_cred_lim total_bal_ex_mort total_bc_limit  \\\n",
       "0       0.0             NaN               NaN            NaN   \n",
       "1       0.0             NaN               NaN            NaN   \n",
       "2       0.0             NaN               NaN            NaN   \n",
       "3       0.0             NaN               NaN            NaN   \n",
       "4       0.0             NaN               NaN            NaN   \n",
       "\n",
       "  total_il_high_credit_limit  \n",
       "0                        NaN  \n",
       "1                        NaN  \n",
       "2                        NaN  \n",
       "3                        NaN  \n",
       "4                        NaN  \n",
       "\n",
       "[5 rows x 111 columns]"
      ]
     },
     "execution_count": 42,
     "metadata": {},
     "output_type": "execute_result"
    }
   ],
   "source": [
    "loan_data.head()"
   ]
  },
  {
   "cell_type": "code",
   "execution_count": 43,
   "id": "9eb9f573",
   "metadata": {},
   "outputs": [
    {
     "data": {
      "text/plain": [
       "(39717, 111)"
      ]
     },
     "execution_count": 43,
     "metadata": {},
     "output_type": "execute_result"
    }
   ],
   "source": [
    "loan_data.shape"
   ]
  },
  {
   "cell_type": "code",
   "execution_count": 44,
   "id": "2175d116",
   "metadata": {},
   "outputs": [
    {
     "name": "stdout",
     "output_type": "stream",
     "text": [
      "<class 'pandas.core.frame.DataFrame'>\n",
      "RangeIndex: 39717 entries, 0 to 39716\n",
      "Columns: 111 entries, id to total_il_high_credit_limit\n",
      "dtypes: float64(74), int64(13), object(24)\n",
      "memory usage: 33.6+ MB\n"
     ]
    }
   ],
   "source": [
    "loan_data.info()"
   ]
  },
  {
   "cell_type": "code",
   "execution_count": 45,
   "id": "38f5c3f1",
   "metadata": {},
   "outputs": [
    {
     "data": {
      "text/plain": [
       "<bound method NDFrame.describe of             id  member_id  loan_amnt  funded_amnt  funded_amnt_inv  \\\n",
       "0      1077501    1296599       5000         5000           4975.0   \n",
       "1      1077430    1314167       2500         2500           2500.0   \n",
       "2      1077175    1313524       2400         2400           2400.0   \n",
       "3      1076863    1277178      10000        10000          10000.0   \n",
       "4      1075358    1311748       3000         3000           3000.0   \n",
       "...        ...        ...        ...          ...              ...   \n",
       "39712    92187      92174       2500         2500           1075.0   \n",
       "39713    90665      90607       8500         8500            875.0   \n",
       "39714    90395      90390       5000         5000           1325.0   \n",
       "39715    90376      89243       5000         5000            650.0   \n",
       "39716    87023      86999       7500         7500            800.0   \n",
       "\n",
       "             term int_rate  installment grade sub_grade  ...  \\\n",
       "0       36 months   10.65%       162.87     B        B2  ...   \n",
       "1       60 months   15.27%        59.83     C        C4  ...   \n",
       "2       36 months   15.96%        84.33     C        C5  ...   \n",
       "3       36 months   13.49%       339.31     C        C1  ...   \n",
       "4       60 months   12.69%        67.79     B        B5  ...   \n",
       "...           ...      ...          ...   ...       ...  ...   \n",
       "39712   36 months    8.07%        78.42     A        A4  ...   \n",
       "39713   36 months   10.28%       275.38     C        C1  ...   \n",
       "39714   36 months    8.07%       156.84     A        A4  ...   \n",
       "39715   36 months    7.43%       155.38     A        A2  ...   \n",
       "39716   36 months   13.75%       255.43     E        E2  ...   \n",
       "\n",
       "      num_tl_90g_dpd_24m num_tl_op_past_12m pct_tl_nvr_dlq  percent_bc_gt_75  \\\n",
       "0                    NaN                NaN            NaN               NaN   \n",
       "1                    NaN                NaN            NaN               NaN   \n",
       "2                    NaN                NaN            NaN               NaN   \n",
       "3                    NaN                NaN            NaN               NaN   \n",
       "4                    NaN                NaN            NaN               NaN   \n",
       "...                  ...                ...            ...               ...   \n",
       "39712                NaN                NaN            NaN               NaN   \n",
       "39713                NaN                NaN            NaN               NaN   \n",
       "39714                NaN                NaN            NaN               NaN   \n",
       "39715                NaN                NaN            NaN               NaN   \n",
       "39716                NaN                NaN            NaN               NaN   \n",
       "\n",
       "      pub_rec_bankruptcies tax_liens tot_hi_cred_lim total_bal_ex_mort  \\\n",
       "0                      0.0       0.0             NaN               NaN   \n",
       "1                      0.0       0.0             NaN               NaN   \n",
       "2                      0.0       0.0             NaN               NaN   \n",
       "3                      0.0       0.0             NaN               NaN   \n",
       "4                      0.0       0.0             NaN               NaN   \n",
       "...                    ...       ...             ...               ...   \n",
       "39712                  NaN       NaN             NaN               NaN   \n",
       "39713                  NaN       NaN             NaN               NaN   \n",
       "39714                  NaN       NaN             NaN               NaN   \n",
       "39715                  NaN       NaN             NaN               NaN   \n",
       "39716                  NaN       NaN             NaN               NaN   \n",
       "\n",
       "      total_bc_limit total_il_high_credit_limit  \n",
       "0                NaN                        NaN  \n",
       "1                NaN                        NaN  \n",
       "2                NaN                        NaN  \n",
       "3                NaN                        NaN  \n",
       "4                NaN                        NaN  \n",
       "...              ...                        ...  \n",
       "39712            NaN                        NaN  \n",
       "39713            NaN                        NaN  \n",
       "39714            NaN                        NaN  \n",
       "39715            NaN                        NaN  \n",
       "39716            NaN                        NaN  \n",
       "\n",
       "[39717 rows x 111 columns]>"
      ]
     },
     "execution_count": 45,
     "metadata": {},
     "output_type": "execute_result"
    }
   ],
   "source": [
    "loan_data.describe"
   ]
  },
  {
   "cell_type": "markdown",
   "id": "dd91668a",
   "metadata": {},
   "source": [
    "OBSERVATION:We can observe there are a lot of coloumns with NaN values. "
   ]
  },
  {
   "cell_type": "code",
   "execution_count": 46,
   "id": "b45bbd82",
   "metadata": {},
   "outputs": [
    {
     "data": {
      "text/plain": [
       "id                                  0.000000\n",
       "member_id                           0.000000\n",
       "loan_amnt                           0.000000\n",
       "funded_amnt                         0.000000\n",
       "funded_amnt_inv                     0.000000\n",
       "term                                0.000000\n",
       "int_rate                            0.000000\n",
       "installment                         0.000000\n",
       "grade                               0.000000\n",
       "sub_grade                           0.000000\n",
       "emp_title                           6.191303\n",
       "emp_length                          2.706650\n",
       "home_ownership                      0.000000\n",
       "annual_inc                          0.000000\n",
       "verification_status                 0.000000\n",
       "issue_d                             0.000000\n",
       "loan_status                         0.000000\n",
       "pymnt_plan                          0.000000\n",
       "url                                 0.000000\n",
       "desc                               32.580507\n",
       "purpose                             0.000000\n",
       "title                               0.027696\n",
       "zip_code                            0.000000\n",
       "addr_state                          0.000000\n",
       "dti                                 0.000000\n",
       "delinq_2yrs                         0.000000\n",
       "earliest_cr_line                    0.000000\n",
       "inq_last_6mths                      0.000000\n",
       "mths_since_last_delinq             64.662487\n",
       "mths_since_last_record             92.985372\n",
       "open_acc                            0.000000\n",
       "pub_rec                             0.000000\n",
       "revol_bal                           0.000000\n",
       "revol_util                          0.125891\n",
       "total_acc                           0.000000\n",
       "initial_list_status                 0.000000\n",
       "out_prncp                           0.000000\n",
       "out_prncp_inv                       0.000000\n",
       "total_pymnt                         0.000000\n",
       "total_pymnt_inv                     0.000000\n",
       "total_rec_prncp                     0.000000\n",
       "total_rec_int                       0.000000\n",
       "total_rec_late_fee                  0.000000\n",
       "recoveries                          0.000000\n",
       "collection_recovery_fee             0.000000\n",
       "last_pymnt_d                        0.178765\n",
       "last_pymnt_amnt                     0.000000\n",
       "next_pymnt_d                       97.129693\n",
       "last_credit_pull_d                  0.005036\n",
       "collections_12_mths_ex_med          0.140998\n",
       "mths_since_last_major_derog       100.000000\n",
       "policy_code                         0.000000\n",
       "application_type                    0.000000\n",
       "annual_inc_joint                  100.000000\n",
       "dti_joint                         100.000000\n",
       "verification_status_joint         100.000000\n",
       "acc_now_delinq                      0.000000\n",
       "tot_coll_amt                      100.000000\n",
       "tot_cur_bal                       100.000000\n",
       "open_acc_6m                       100.000000\n",
       "open_il_6m                        100.000000\n",
       "open_il_12m                       100.000000\n",
       "open_il_24m                       100.000000\n",
       "mths_since_rcnt_il                100.000000\n",
       "total_bal_il                      100.000000\n",
       "il_util                           100.000000\n",
       "open_rv_12m                       100.000000\n",
       "open_rv_24m                       100.000000\n",
       "max_bal_bc                        100.000000\n",
       "all_util                          100.000000\n",
       "total_rev_hi_lim                  100.000000\n",
       "inq_fi                            100.000000\n",
       "total_cu_tl                       100.000000\n",
       "inq_last_12m                      100.000000\n",
       "acc_open_past_24mths              100.000000\n",
       "avg_cur_bal                       100.000000\n",
       "bc_open_to_buy                    100.000000\n",
       "bc_util                           100.000000\n",
       "chargeoff_within_12_mths            0.140998\n",
       "delinq_amnt                         0.000000\n",
       "mo_sin_old_il_acct                100.000000\n",
       "mo_sin_old_rev_tl_op              100.000000\n",
       "mo_sin_rcnt_rev_tl_op             100.000000\n",
       "mo_sin_rcnt_tl                    100.000000\n",
       "mort_acc                          100.000000\n",
       "mths_since_recent_bc              100.000000\n",
       "mths_since_recent_bc_dlq          100.000000\n",
       "mths_since_recent_inq             100.000000\n",
       "mths_since_recent_revol_delinq    100.000000\n",
       "num_accts_ever_120_pd             100.000000\n",
       "num_actv_bc_tl                    100.000000\n",
       "num_actv_rev_tl                   100.000000\n",
       "num_bc_sats                       100.000000\n",
       "num_bc_tl                         100.000000\n",
       "num_il_tl                         100.000000\n",
       "num_op_rev_tl                     100.000000\n",
       "num_rev_accts                     100.000000\n",
       "num_rev_tl_bal_gt_0               100.000000\n",
       "num_sats                          100.000000\n",
       "num_tl_120dpd_2m                  100.000000\n",
       "num_tl_30dpd                      100.000000\n",
       "num_tl_90g_dpd_24m                100.000000\n",
       "num_tl_op_past_12m                100.000000\n",
       "pct_tl_nvr_dlq                    100.000000\n",
       "percent_bc_gt_75                  100.000000\n",
       "pub_rec_bankruptcies                1.754916\n",
       "tax_liens                           0.098195\n",
       "tot_hi_cred_lim                   100.000000\n",
       "total_bal_ex_mort                 100.000000\n",
       "total_bc_limit                    100.000000\n",
       "total_il_high_credit_limit        100.000000\n",
       "dtype: float64"
      ]
     },
     "execution_count": 46,
     "metadata": {},
     "output_type": "execute_result"
    }
   ],
   "source": [
    "loan_data.isnull().sum() * 100 / len(loan_data)"
   ]
  },
  {
   "cell_type": "markdown",
   "id": "3e3f906e",
   "metadata": {},
   "source": [
    "OBSERVATION: We can see there are a lot of coloumns with 100% null values. These can be dropped for our analysis."
   ]
  },
  {
   "cell_type": "code",
   "execution_count": 47,
   "id": "fdbb45dd",
   "metadata": {},
   "outputs": [
    {
     "name": "stdout",
     "output_type": "stream",
     "text": [
      "id                                39717\n",
      "member_id                         39717\n",
      "loan_amnt                           885\n",
      "funded_amnt                        1041\n",
      "funded_amnt_inv                    8205\n",
      "term                                  2\n",
      "int_rate                            371\n",
      "installment                       15383\n",
      "grade                                 7\n",
      "sub_grade                            35\n",
      "emp_title                         28820\n",
      "emp_length                           11\n",
      "home_ownership                        5\n",
      "annual_inc                         5318\n",
      "verification_status                   3\n",
      "issue_d                              55\n",
      "loan_status                           3\n",
      "pymnt_plan                            1\n",
      "url                               39717\n",
      "desc                              26527\n",
      "purpose                              14\n",
      "title                             19615\n",
      "zip_code                            823\n",
      "addr_state                           50\n",
      "dti                                2868\n",
      "delinq_2yrs                          11\n",
      "earliest_cr_line                    526\n",
      "inq_last_6mths                        9\n",
      "mths_since_last_delinq               95\n",
      "mths_since_last_record              111\n",
      "open_acc                             40\n",
      "pub_rec                               5\n",
      "revol_bal                         21711\n",
      "revol_util                         1089\n",
      "total_acc                            82\n",
      "initial_list_status                   1\n",
      "out_prncp                          1137\n",
      "out_prncp_inv                      1138\n",
      "total_pymnt                       37850\n",
      "total_pymnt_inv                   37518\n",
      "total_rec_prncp                    7976\n",
      "total_rec_int                     35148\n",
      "total_rec_late_fee                 1356\n",
      "recoveries                         4040\n",
      "collection_recovery_fee            2616\n",
      "last_pymnt_d                        101\n",
      "last_pymnt_amnt                   34930\n",
      "next_pymnt_d                          2\n",
      "last_credit_pull_d                  106\n",
      "collections_12_mths_ex_med            1\n",
      "mths_since_last_major_derog           0\n",
      "policy_code                           1\n",
      "application_type                      1\n",
      "annual_inc_joint                      0\n",
      "dti_joint                             0\n",
      "verification_status_joint             0\n",
      "acc_now_delinq                        1\n",
      "tot_coll_amt                          0\n",
      "tot_cur_bal                           0\n",
      "open_acc_6m                           0\n",
      "open_il_6m                            0\n",
      "open_il_12m                           0\n",
      "open_il_24m                           0\n",
      "mths_since_rcnt_il                    0\n",
      "total_bal_il                          0\n",
      "il_util                               0\n",
      "open_rv_12m                           0\n",
      "open_rv_24m                           0\n",
      "max_bal_bc                            0\n",
      "all_util                              0\n",
      "total_rev_hi_lim                      0\n",
      "inq_fi                                0\n",
      "total_cu_tl                           0\n",
      "inq_last_12m                          0\n",
      "acc_open_past_24mths                  0\n",
      "avg_cur_bal                           0\n",
      "bc_open_to_buy                        0\n",
      "bc_util                               0\n",
      "chargeoff_within_12_mths              1\n",
      "delinq_amnt                           1\n",
      "mo_sin_old_il_acct                    0\n",
      "mo_sin_old_rev_tl_op                  0\n",
      "mo_sin_rcnt_rev_tl_op                 0\n",
      "mo_sin_rcnt_tl                        0\n",
      "mort_acc                              0\n",
      "mths_since_recent_bc                  0\n",
      "mths_since_recent_bc_dlq              0\n",
      "mths_since_recent_inq                 0\n",
      "mths_since_recent_revol_delinq        0\n",
      "num_accts_ever_120_pd                 0\n",
      "num_actv_bc_tl                        0\n",
      "num_actv_rev_tl                       0\n",
      "num_bc_sats                           0\n",
      "num_bc_tl                             0\n",
      "num_il_tl                             0\n",
      "num_op_rev_tl                         0\n",
      "num_rev_accts                         0\n",
      "num_rev_tl_bal_gt_0                   0\n",
      "num_sats                              0\n",
      "num_tl_120dpd_2m                      0\n",
      "num_tl_30dpd                          0\n",
      "num_tl_90g_dpd_24m                    0\n",
      "num_tl_op_past_12m                    0\n",
      "pct_tl_nvr_dlq                        0\n",
      "percent_bc_gt_75                      0\n",
      "pub_rec_bankruptcies                  3\n",
      "tax_liens                             1\n",
      "tot_hi_cred_lim                       0\n",
      "total_bal_ex_mort                     0\n",
      "total_bc_limit                        0\n",
      "total_il_high_credit_limit            0\n",
      "dtype: int64\n"
     ]
    }
   ],
   "source": [
    "print(loan_data.nunique(axis=0))"
   ]
  },
  {
   "cell_type": "markdown",
   "id": "90d22c51",
   "metadata": {},
   "source": [
    "OBSERVATION: There are many coloumns with 1 uniques value. These can also be dropped as they are not useful for our analysis."
   ]
  },
  {
   "cell_type": "markdown",
   "id": "926b749a",
   "metadata": {},
   "source": [
    "### Data Cleaning"
   ]
  },
  {
   "cell_type": "code",
   "execution_count": 48,
   "id": "0c4c8c52",
   "metadata": {},
   "outputs": [],
   "source": [
    "#Removing coloumns with 100% null values\n",
    "loan_data = loan_data.dropna(axis=1, how='all')"
   ]
  },
  {
   "cell_type": "code",
   "execution_count": 49,
   "id": "fe323066",
   "metadata": {},
   "outputs": [
    {
     "data": {
      "text/plain": [
       "(39717, 57)"
      ]
     },
     "execution_count": 49,
     "metadata": {},
     "output_type": "execute_result"
    }
   ],
   "source": [
    "loan_data.shape"
   ]
  },
  {
   "cell_type": "code",
   "execution_count": 50,
   "id": "74a7ac7e",
   "metadata": {},
   "outputs": [],
   "source": [
    "#Removing coloumns with more than 30% null values\n",
    "loan_data = loan_data.dropna(thresh=loan_data.shape[0]*0.7,axis=1)"
   ]
  },
  {
   "cell_type": "code",
   "execution_count": 51,
   "id": "eb74de12",
   "metadata": {},
   "outputs": [
    {
     "data": {
      "text/plain": [
       "(39717, 53)"
      ]
     },
     "execution_count": 51,
     "metadata": {},
     "output_type": "execute_result"
    }
   ],
   "source": [
    "loan_data.shape"
   ]
  },
  {
   "cell_type": "code",
   "execution_count": 52,
   "id": "b3d66619",
   "metadata": {},
   "outputs": [
    {
     "name": "stdout",
     "output_type": "stream",
     "text": [
      "id                            39717\n",
      "member_id                     39717\n",
      "loan_amnt                       885\n",
      "funded_amnt                    1041\n",
      "funded_amnt_inv                8205\n",
      "term                              2\n",
      "int_rate                        371\n",
      "installment                   15383\n",
      "grade                             7\n",
      "sub_grade                        35\n",
      "emp_title                     28820\n",
      "emp_length                       11\n",
      "home_ownership                    5\n",
      "annual_inc                     5318\n",
      "verification_status               3\n",
      "issue_d                          55\n",
      "loan_status                       3\n",
      "pymnt_plan                        1\n",
      "url                           39717\n",
      "purpose                          14\n",
      "title                         19615\n",
      "zip_code                        823\n",
      "addr_state                       50\n",
      "dti                            2868\n",
      "delinq_2yrs                      11\n",
      "earliest_cr_line                526\n",
      "inq_last_6mths                    9\n",
      "open_acc                         40\n",
      "pub_rec                           5\n",
      "revol_bal                     21711\n",
      "revol_util                     1089\n",
      "total_acc                        82\n",
      "initial_list_status               1\n",
      "out_prncp                      1137\n",
      "out_prncp_inv                  1138\n",
      "total_pymnt                   37850\n",
      "total_pymnt_inv               37518\n",
      "total_rec_prncp                7976\n",
      "total_rec_int                 35148\n",
      "total_rec_late_fee             1356\n",
      "recoveries                     4040\n",
      "collection_recovery_fee        2616\n",
      "last_pymnt_d                    101\n",
      "last_pymnt_amnt               34930\n",
      "last_credit_pull_d              106\n",
      "collections_12_mths_ex_med        1\n",
      "policy_code                       1\n",
      "application_type                  1\n",
      "acc_now_delinq                    1\n",
      "chargeoff_within_12_mths          1\n",
      "delinq_amnt                       1\n",
      "pub_rec_bankruptcies              3\n",
      "tax_liens                         1\n",
      "dtype: int64\n"
     ]
    }
   ],
   "source": [
    "#checking for unique values\n",
    "print(loan_data.nunique(axis=0))"
   ]
  },
  {
   "cell_type": "code",
   "execution_count": 53,
   "id": "9d19fb16",
   "metadata": {},
   "outputs": [],
   "source": [
    "#Dropping coloumns having only one unique value.\n",
    "drop_cols = [c for c in list(loan_data) if loan_data[c].nunique() <= 1]\n",
    "loan_data = loan_data.drop(columns=drop_cols)"
   ]
  },
  {
   "cell_type": "code",
   "execution_count": 54,
   "id": "10b6a2b0",
   "metadata": {},
   "outputs": [
    {
     "data": {
      "text/plain": [
       "(39717, 44)"
      ]
     },
     "execution_count": 54,
     "metadata": {},
     "output_type": "execute_result"
    }
   ],
   "source": [
    "loan_data.shape"
   ]
  },
  {
   "cell_type": "code",
   "execution_count": 55,
   "id": "b3944512",
   "metadata": {},
   "outputs": [
    {
     "data": {
      "text/plain": [
       "id                           int64\n",
       "member_id                    int64\n",
       "loan_amnt                    int64\n",
       "funded_amnt                  int64\n",
       "funded_amnt_inv            float64\n",
       "term                        object\n",
       "int_rate                    object\n",
       "installment                float64\n",
       "grade                       object\n",
       "sub_grade                   object\n",
       "emp_title                   object\n",
       "emp_length                  object\n",
       "home_ownership              object\n",
       "annual_inc                 float64\n",
       "verification_status         object\n",
       "issue_d                     object\n",
       "loan_status                 object\n",
       "url                         object\n",
       "purpose                     object\n",
       "title                       object\n",
       "zip_code                    object\n",
       "addr_state                  object\n",
       "dti                        float64\n",
       "delinq_2yrs                  int64\n",
       "earliest_cr_line            object\n",
       "inq_last_6mths               int64\n",
       "open_acc                     int64\n",
       "pub_rec                      int64\n",
       "revol_bal                    int64\n",
       "revol_util                  object\n",
       "total_acc                    int64\n",
       "out_prncp                  float64\n",
       "out_prncp_inv              float64\n",
       "total_pymnt                float64\n",
       "total_pymnt_inv            float64\n",
       "total_rec_prncp            float64\n",
       "total_rec_int              float64\n",
       "total_rec_late_fee         float64\n",
       "recoveries                 float64\n",
       "collection_recovery_fee    float64\n",
       "last_pymnt_d                object\n",
       "last_pymnt_amnt            float64\n",
       "last_credit_pull_d          object\n",
       "pub_rec_bankruptcies       float64\n",
       "dtype: object"
      ]
     },
     "execution_count": 55,
     "metadata": {},
     "output_type": "execute_result"
    }
   ],
   "source": [
    "#checking the datatypes of coloumns\n",
    "loan_data.dtypes"
   ]
  },
  {
   "cell_type": "code",
   "execution_count": 56,
   "id": "9a6274fd",
   "metadata": {},
   "outputs": [
    {
     "data": {
      "text/plain": [
       "US Army                              134\n",
       "Bank of America                      109\n",
       "IBM                                   66\n",
       "AT&T                                  59\n",
       "Kaiser Permanente                     56\n",
       "                                    ... \n",
       "Community College of Philadelphia      1\n",
       "AMEC                                   1\n",
       "lee county sheriff                     1\n",
       "Bacon County Board of Education        1\n",
       "Evergreen Center                       1\n",
       "Name: emp_title, Length: 28820, dtype: int64"
      ]
     },
     "execution_count": 56,
     "metadata": {},
     "output_type": "execute_result"
    }
   ],
   "source": [
    "loan_data['emp_title'].value_counts()"
   ]
  },
  {
   "attachments": {},
   "cell_type": "markdown",
   "id": "ce2dab46",
   "metadata": {},
   "source": [
    "### Determining which coloumns are not required for our analysis\n",
    "\n",
    "1. id = This is a unique LC assigned ID for the loan listing. This doest not have any any impact on our analysis.\n",
    "2. member_id = A unique LC assigned Id for the borrower member. This too does not have any impact on our analysis.\n",
    "3. emp_title = There are a lot of unique values (about 28820) and cannot be generalized for our analysis.\n",
    "4. issue_d = The month which the loan was funded is also not useful for our analysis.\n",
    "5. url = URL for the LC page with listing data. This is also not a useful metric\n",
    "6. title = The loan title provided by the borrower. Purpose of loan is better metrics than the title provided by user.\n",
    "7. zip_code = The first 3 numbers of the zip code provided by the borrower in the loan application. Also not a useful metrics.\n",
    "8. arliest_cr_line: The month the borrower's earliest reported credit line was opened. This information might not directly impact the likelihood of default.\n",
    "9. nq_last_6mths: The number of inquiries in the past 6 months. It might not be a strong predictor of loan default.\n",
    "10. open_acc: The number of open credit lines. This might not be a strong predictor of default risk.\n",
    "11. revol_bal: Total credit revolving balance. \n",
    "12. revol_util: Revolving line utilization rate.\n",
    "13. total_acc: The total number of credit lines. \n",
    "14. out_prncp, out_prncp_inv, total_pymnt, total_pymnt_inv, total_rec_prncp, total_rec_int, total_rec_late_fee: These columns provide information about the loan payment history. these are not useful for predicting  default at the time of application.\n",
    "15. recoveries, collection_recovery_fee: These columns provide information about post-charge-off recovery, which may not directly impact the initial loan approval decision.\n",
    "16. last_pymnt_d, last_pymnt_amnt, last_credit_pull_d: These columns provide information about the last payment and credit pull, which might be more relevant for post-approval monitoring."
   ]
  },
  {
   "cell_type": "code",
   "execution_count": 57,
   "id": "bf7f46f3",
   "metadata": {},
   "outputs": [],
   "source": [
    "unwanted_cols = ['id','member_id','title','emp_title','url','zip_code','earliest_cr_line','inq_last_6mths','open_acc','revol_bal','revol_util','total_acc','out_prncp',\n",
    "              'out_prncp_inv','total_pymnt','total_pymnt_inv','total_rec_prncp','total_rec_int','total_rec_late_fee','recoveries','collection_recovery_fee', 'last_pymnt_d', 'last_pymnt_amnt',\n",
    "              'last_credit_pull_d']\n"
   ]
  },
  {
   "cell_type": "code",
   "execution_count": 58,
   "id": "5cb6a7cb",
   "metadata": {},
   "outputs": [],
   "source": [
    "loan_data = loan_data.drop(unwanted_cols, axis =1)"
   ]
  },
  {
   "cell_type": "code",
   "execution_count": 59,
   "id": "d147c77a",
   "metadata": {},
   "outputs": [
    {
     "data": {
      "text/plain": [
       "(39717, 20)"
      ]
     },
     "execution_count": 59,
     "metadata": {},
     "output_type": "execute_result"
    }
   ],
   "source": [
    "loan_data.shape"
   ]
  },
  {
   "cell_type": "markdown",
   "id": "b9879543",
   "metadata": {},
   "source": [
    "Dropping records which has \"Current\" as loan status as these are not useful for the analysis."
   ]
  },
  {
   "cell_type": "code",
   "execution_count": 60,
   "id": "0297a2cf",
   "metadata": {},
   "outputs": [],
   "source": [
    "loan_data = loan_data[loan_data['loan_status'] != \"Current\"]"
   ]
  },
  {
   "cell_type": "code",
   "execution_count": 61,
   "id": "abef1844",
   "metadata": {},
   "outputs": [
    {
     "data": {
      "text/plain": [
       "(38577, 20)"
      ]
     },
     "execution_count": 61,
     "metadata": {},
     "output_type": "execute_result"
    }
   ],
   "source": [
    "loan_data.shape"
   ]
  },
  {
   "cell_type": "code",
   "execution_count": 62,
   "id": "5a09a610",
   "metadata": {},
   "outputs": [
    {
     "data": {
      "text/plain": [
       "(38574, 20)"
      ]
     },
     "execution_count": 62,
     "metadata": {},
     "output_type": "execute_result"
    }
   ],
   "source": [
    "# Dropping NONE records from home_ownership.\n",
    "loan_data = loan_data[loan_data['home_ownership'] != 'NONE']\n",
    "loan_data.shape"
   ]
  },
  {
   "cell_type": "code",
   "execution_count": 63,
   "id": "964531db",
   "metadata": {},
   "outputs": [
    {
     "data": {
      "text/plain": [
       "(37541, 20)"
      ]
     },
     "execution_count": 63,
     "metadata": {},
     "output_type": "execute_result"
    }
   ],
   "source": [
    "# Dropping missing records from emp_length.\n",
    "loan_data = loan_data[~loan_data['emp_length'].isnull()]\n",
    "loan_data.shape"
   ]
  },
  {
   "cell_type": "code",
   "execution_count": 64,
   "id": "68abb269",
   "metadata": {},
   "outputs": [
    {
     "data": {
      "text/plain": [
       "(36847, 20)"
      ]
     },
     "execution_count": 64,
     "metadata": {},
     "output_type": "execute_result"
    }
   ],
   "source": [
    "# Dropping missing records from pub_rec_bankruptcies.\n",
    "loan_data = loan_data[~loan_data['pub_rec_bankruptcies'].isnull()]\n",
    "loan_data.shape"
   ]
  },
  {
   "cell_type": "markdown",
   "id": "7c62348e",
   "metadata": {},
   "source": [
    "### Preprocessing Data"
   ]
  },
  {
   "cell_type": "code",
   "execution_count": 65,
   "id": "b79834c5",
   "metadata": {},
   "outputs": [
    {
     "data": {
      "text/html": [
       "<div>\n",
       "<style scoped>\n",
       "    .dataframe tbody tr th:only-of-type {\n",
       "        vertical-align: middle;\n",
       "    }\n",
       "\n",
       "    .dataframe tbody tr th {\n",
       "        vertical-align: top;\n",
       "    }\n",
       "\n",
       "    .dataframe thead th {\n",
       "        text-align: right;\n",
       "    }\n",
       "</style>\n",
       "<table border=\"1\" class=\"dataframe\">\n",
       "  <thead>\n",
       "    <tr style=\"text-align: right;\">\n",
       "      <th></th>\n",
       "      <th>loan_amnt</th>\n",
       "      <th>funded_amnt</th>\n",
       "      <th>funded_amnt_inv</th>\n",
       "      <th>term</th>\n",
       "      <th>int_rate</th>\n",
       "      <th>installment</th>\n",
       "      <th>grade</th>\n",
       "      <th>sub_grade</th>\n",
       "      <th>emp_length</th>\n",
       "      <th>home_ownership</th>\n",
       "      <th>annual_inc</th>\n",
       "      <th>verification_status</th>\n",
       "      <th>issue_d</th>\n",
       "      <th>loan_status</th>\n",
       "      <th>purpose</th>\n",
       "      <th>addr_state</th>\n",
       "      <th>dti</th>\n",
       "      <th>delinq_2yrs</th>\n",
       "      <th>pub_rec</th>\n",
       "      <th>pub_rec_bankruptcies</th>\n",
       "    </tr>\n",
       "  </thead>\n",
       "  <tbody>\n",
       "    <tr>\n",
       "      <th>0</th>\n",
       "      <td>5000</td>\n",
       "      <td>5000</td>\n",
       "      <td>4975.0</td>\n",
       "      <td>36 months</td>\n",
       "      <td>10.65</td>\n",
       "      <td>162.87</td>\n",
       "      <td>B</td>\n",
       "      <td>B2</td>\n",
       "      <td>10+ years</td>\n",
       "      <td>RENT</td>\n",
       "      <td>24000.0</td>\n",
       "      <td>Verified</td>\n",
       "      <td>Dec-11</td>\n",
       "      <td>Fully Paid</td>\n",
       "      <td>credit_card</td>\n",
       "      <td>AZ</td>\n",
       "      <td>27.65</td>\n",
       "      <td>0</td>\n",
       "      <td>0</td>\n",
       "      <td>0.0</td>\n",
       "    </tr>\n",
       "    <tr>\n",
       "      <th>1</th>\n",
       "      <td>2500</td>\n",
       "      <td>2500</td>\n",
       "      <td>2500.0</td>\n",
       "      <td>60 months</td>\n",
       "      <td>15.27</td>\n",
       "      <td>59.83</td>\n",
       "      <td>C</td>\n",
       "      <td>C4</td>\n",
       "      <td>&lt; 1 year</td>\n",
       "      <td>RENT</td>\n",
       "      <td>30000.0</td>\n",
       "      <td>Source Verified</td>\n",
       "      <td>Dec-11</td>\n",
       "      <td>Charged Off</td>\n",
       "      <td>car</td>\n",
       "      <td>GA</td>\n",
       "      <td>1.00</td>\n",
       "      <td>0</td>\n",
       "      <td>0</td>\n",
       "      <td>0.0</td>\n",
       "    </tr>\n",
       "    <tr>\n",
       "      <th>2</th>\n",
       "      <td>2400</td>\n",
       "      <td>2400</td>\n",
       "      <td>2400.0</td>\n",
       "      <td>36 months</td>\n",
       "      <td>15.96</td>\n",
       "      <td>84.33</td>\n",
       "      <td>C</td>\n",
       "      <td>C5</td>\n",
       "      <td>10+ years</td>\n",
       "      <td>RENT</td>\n",
       "      <td>12252.0</td>\n",
       "      <td>Not Verified</td>\n",
       "      <td>Dec-11</td>\n",
       "      <td>Fully Paid</td>\n",
       "      <td>small_business</td>\n",
       "      <td>IL</td>\n",
       "      <td>8.72</td>\n",
       "      <td>0</td>\n",
       "      <td>0</td>\n",
       "      <td>0.0</td>\n",
       "    </tr>\n",
       "    <tr>\n",
       "      <th>3</th>\n",
       "      <td>10000</td>\n",
       "      <td>10000</td>\n",
       "      <td>10000.0</td>\n",
       "      <td>36 months</td>\n",
       "      <td>13.49</td>\n",
       "      <td>339.31</td>\n",
       "      <td>C</td>\n",
       "      <td>C1</td>\n",
       "      <td>10+ years</td>\n",
       "      <td>RENT</td>\n",
       "      <td>49200.0</td>\n",
       "      <td>Source Verified</td>\n",
       "      <td>Dec-11</td>\n",
       "      <td>Fully Paid</td>\n",
       "      <td>other</td>\n",
       "      <td>CA</td>\n",
       "      <td>20.00</td>\n",
       "      <td>0</td>\n",
       "      <td>0</td>\n",
       "      <td>0.0</td>\n",
       "    </tr>\n",
       "    <tr>\n",
       "      <th>5</th>\n",
       "      <td>5000</td>\n",
       "      <td>5000</td>\n",
       "      <td>5000.0</td>\n",
       "      <td>36 months</td>\n",
       "      <td>7.90</td>\n",
       "      <td>156.46</td>\n",
       "      <td>A</td>\n",
       "      <td>A4</td>\n",
       "      <td>3 years</td>\n",
       "      <td>RENT</td>\n",
       "      <td>36000.0</td>\n",
       "      <td>Source Verified</td>\n",
       "      <td>Dec-11</td>\n",
       "      <td>Fully Paid</td>\n",
       "      <td>wedding</td>\n",
       "      <td>AZ</td>\n",
       "      <td>11.20</td>\n",
       "      <td>0</td>\n",
       "      <td>0</td>\n",
       "      <td>0.0</td>\n",
       "    </tr>\n",
       "  </tbody>\n",
       "</table>\n",
       "</div>"
      ],
      "text/plain": [
       "   loan_amnt  funded_amnt  funded_amnt_inv        term  int_rate  installment  \\\n",
       "0       5000         5000           4975.0   36 months     10.65       162.87   \n",
       "1       2500         2500           2500.0   60 months     15.27        59.83   \n",
       "2       2400         2400           2400.0   36 months     15.96        84.33   \n",
       "3      10000        10000          10000.0   36 months     13.49       339.31   \n",
       "5       5000         5000           5000.0   36 months      7.90       156.46   \n",
       "\n",
       "  grade sub_grade emp_length home_ownership  annual_inc verification_status  \\\n",
       "0     B        B2  10+ years           RENT     24000.0            Verified   \n",
       "1     C        C4   < 1 year           RENT     30000.0     Source Verified   \n",
       "2     C        C5  10+ years           RENT     12252.0        Not Verified   \n",
       "3     C        C1  10+ years           RENT     49200.0     Source Verified   \n",
       "5     A        A4    3 years           RENT     36000.0     Source Verified   \n",
       "\n",
       "  issue_d  loan_status         purpose addr_state    dti  delinq_2yrs  \\\n",
       "0  Dec-11   Fully Paid     credit_card         AZ  27.65            0   \n",
       "1  Dec-11  Charged Off             car         GA   1.00            0   \n",
       "2  Dec-11   Fully Paid  small_business         IL   8.72            0   \n",
       "3  Dec-11   Fully Paid           other         CA  20.00            0   \n",
       "5  Dec-11   Fully Paid         wedding         AZ  11.20            0   \n",
       "\n",
       "   pub_rec  pub_rec_bankruptcies  \n",
       "0        0                   0.0  \n",
       "1        0                   0.0  \n",
       "2        0                   0.0  \n",
       "3        0                   0.0  \n",
       "5        0                   0.0  "
      ]
     },
     "execution_count": 65,
     "metadata": {},
     "output_type": "execute_result"
    }
   ],
   "source": [
    "#Converting interest rate to float\n",
    "loan_data['int_rate'] = loan_data['int_rate'].str.rstrip('%').astype('float')\n",
    "loan_data.head()"
   ]
  },
  {
   "cell_type": "code",
   "execution_count": 66,
   "id": "d3859d91",
   "metadata": {},
   "outputs": [
    {
     "data": {
      "text/html": [
       "<div>\n",
       "<style scoped>\n",
       "    .dataframe tbody tr th:only-of-type {\n",
       "        vertical-align: middle;\n",
       "    }\n",
       "\n",
       "    .dataframe tbody tr th {\n",
       "        vertical-align: top;\n",
       "    }\n",
       "\n",
       "    .dataframe thead th {\n",
       "        text-align: right;\n",
       "    }\n",
       "</style>\n",
       "<table border=\"1\" class=\"dataframe\">\n",
       "  <thead>\n",
       "    <tr style=\"text-align: right;\">\n",
       "      <th></th>\n",
       "      <th>loan_amnt</th>\n",
       "      <th>funded_amnt</th>\n",
       "      <th>funded_amnt_inv</th>\n",
       "      <th>term</th>\n",
       "      <th>int_rate</th>\n",
       "      <th>installment</th>\n",
       "      <th>grade</th>\n",
       "      <th>sub_grade</th>\n",
       "      <th>emp_length</th>\n",
       "      <th>home_ownership</th>\n",
       "      <th>annual_inc</th>\n",
       "      <th>verification_status</th>\n",
       "      <th>issue_d</th>\n",
       "      <th>loan_status</th>\n",
       "      <th>purpose</th>\n",
       "      <th>addr_state</th>\n",
       "      <th>dti</th>\n",
       "      <th>delinq_2yrs</th>\n",
       "      <th>pub_rec</th>\n",
       "      <th>pub_rec_bankruptcies</th>\n",
       "    </tr>\n",
       "  </thead>\n",
       "  <tbody>\n",
       "    <tr>\n",
       "      <th>0</th>\n",
       "      <td>5000</td>\n",
       "      <td>5000</td>\n",
       "      <td>4975.0</td>\n",
       "      <td>36 months</td>\n",
       "      <td>10.65</td>\n",
       "      <td>162.87</td>\n",
       "      <td>B</td>\n",
       "      <td>B2</td>\n",
       "      <td>10 years</td>\n",
       "      <td>RENT</td>\n",
       "      <td>24000.0</td>\n",
       "      <td>Verified</td>\n",
       "      <td>Dec-11</td>\n",
       "      <td>Fully Paid</td>\n",
       "      <td>credit_card</td>\n",
       "      <td>AZ</td>\n",
       "      <td>27.65</td>\n",
       "      <td>0</td>\n",
       "      <td>0</td>\n",
       "      <td>0.0</td>\n",
       "    </tr>\n",
       "    <tr>\n",
       "      <th>1</th>\n",
       "      <td>2500</td>\n",
       "      <td>2500</td>\n",
       "      <td>2500.0</td>\n",
       "      <td>60 months</td>\n",
       "      <td>15.27</td>\n",
       "      <td>59.83</td>\n",
       "      <td>C</td>\n",
       "      <td>C4</td>\n",
       "      <td>0 years</td>\n",
       "      <td>RENT</td>\n",
       "      <td>30000.0</td>\n",
       "      <td>Source Verified</td>\n",
       "      <td>Dec-11</td>\n",
       "      <td>Charged Off</td>\n",
       "      <td>car</td>\n",
       "      <td>GA</td>\n",
       "      <td>1.00</td>\n",
       "      <td>0</td>\n",
       "      <td>0</td>\n",
       "      <td>0.0</td>\n",
       "    </tr>\n",
       "    <tr>\n",
       "      <th>2</th>\n",
       "      <td>2400</td>\n",
       "      <td>2400</td>\n",
       "      <td>2400.0</td>\n",
       "      <td>36 months</td>\n",
       "      <td>15.96</td>\n",
       "      <td>84.33</td>\n",
       "      <td>C</td>\n",
       "      <td>C5</td>\n",
       "      <td>10 years</td>\n",
       "      <td>RENT</td>\n",
       "      <td>12252.0</td>\n",
       "      <td>Not Verified</td>\n",
       "      <td>Dec-11</td>\n",
       "      <td>Fully Paid</td>\n",
       "      <td>small_business</td>\n",
       "      <td>IL</td>\n",
       "      <td>8.72</td>\n",
       "      <td>0</td>\n",
       "      <td>0</td>\n",
       "      <td>0.0</td>\n",
       "    </tr>\n",
       "    <tr>\n",
       "      <th>3</th>\n",
       "      <td>10000</td>\n",
       "      <td>10000</td>\n",
       "      <td>10000.0</td>\n",
       "      <td>36 months</td>\n",
       "      <td>13.49</td>\n",
       "      <td>339.31</td>\n",
       "      <td>C</td>\n",
       "      <td>C1</td>\n",
       "      <td>10 years</td>\n",
       "      <td>RENT</td>\n",
       "      <td>49200.0</td>\n",
       "      <td>Source Verified</td>\n",
       "      <td>Dec-11</td>\n",
       "      <td>Fully Paid</td>\n",
       "      <td>other</td>\n",
       "      <td>CA</td>\n",
       "      <td>20.00</td>\n",
       "      <td>0</td>\n",
       "      <td>0</td>\n",
       "      <td>0.0</td>\n",
       "    </tr>\n",
       "    <tr>\n",
       "      <th>5</th>\n",
       "      <td>5000</td>\n",
       "      <td>5000</td>\n",
       "      <td>5000.0</td>\n",
       "      <td>36 months</td>\n",
       "      <td>7.90</td>\n",
       "      <td>156.46</td>\n",
       "      <td>A</td>\n",
       "      <td>A4</td>\n",
       "      <td>3 years</td>\n",
       "      <td>RENT</td>\n",
       "      <td>36000.0</td>\n",
       "      <td>Source Verified</td>\n",
       "      <td>Dec-11</td>\n",
       "      <td>Fully Paid</td>\n",
       "      <td>wedding</td>\n",
       "      <td>AZ</td>\n",
       "      <td>11.20</td>\n",
       "      <td>0</td>\n",
       "      <td>0</td>\n",
       "      <td>0.0</td>\n",
       "    </tr>\n",
       "  </tbody>\n",
       "</table>\n",
       "</div>"
      ],
      "text/plain": [
       "   loan_amnt  funded_amnt  funded_amnt_inv        term  int_rate  installment  \\\n",
       "0       5000         5000           4975.0   36 months     10.65       162.87   \n",
       "1       2500         2500           2500.0   60 months     15.27        59.83   \n",
       "2       2400         2400           2400.0   36 months     15.96        84.33   \n",
       "3      10000        10000          10000.0   36 months     13.49       339.31   \n",
       "5       5000         5000           5000.0   36 months      7.90       156.46   \n",
       "\n",
       "  grade sub_grade emp_length home_ownership  annual_inc verification_status  \\\n",
       "0     B        B2   10 years           RENT     24000.0            Verified   \n",
       "1     C        C4    0 years           RENT     30000.0     Source Verified   \n",
       "2     C        C5   10 years           RENT     12252.0        Not Verified   \n",
       "3     C        C1   10 years           RENT     49200.0     Source Verified   \n",
       "5     A        A4    3 years           RENT     36000.0     Source Verified   \n",
       "\n",
       "  issue_d  loan_status         purpose addr_state    dti  delinq_2yrs  \\\n",
       "0  Dec-11   Fully Paid     credit_card         AZ  27.65            0   \n",
       "1  Dec-11  Charged Off             car         GA   1.00            0   \n",
       "2  Dec-11   Fully Paid  small_business         IL   8.72            0   \n",
       "3  Dec-11   Fully Paid           other         CA  20.00            0   \n",
       "5  Dec-11   Fully Paid         wedding         AZ  11.20            0   \n",
       "\n",
       "   pub_rec  pub_rec_bankruptcies  \n",
       "0        0                   0.0  \n",
       "1        0                   0.0  \n",
       "2        0                   0.0  \n",
       "3        0                   0.0  \n",
       "5        0                   0.0  "
      ]
     },
     "execution_count": 66,
     "metadata": {},
     "output_type": "execute_result"
    }
   ],
   "source": [
    "#Replacing 10+ years with 10 years and < 1 year with 0 year in emp_length \n",
    "loan_data['emp_length'] = loan_data['emp_length'].replace({'10+ years': '10 years', '< 1 year': '0 years'})\n",
    "loan_data.head()"
   ]
  },
  {
   "cell_type": "code",
   "execution_count": 67,
   "id": "5c79ef34",
   "metadata": {},
   "outputs": [
    {
     "data": {
      "text/plain": [
       "loan_amnt               0.0\n",
       "funded_amnt             0.0\n",
       "funded_amnt_inv         0.0\n",
       "term                    0.0\n",
       "int_rate                0.0\n",
       "installment             0.0\n",
       "grade                   0.0\n",
       "sub_grade               0.0\n",
       "emp_length              0.0\n",
       "home_ownership          0.0\n",
       "annual_inc              0.0\n",
       "verification_status     0.0\n",
       "issue_d                 0.0\n",
       "loan_status             0.0\n",
       "purpose                 0.0\n",
       "addr_state              0.0\n",
       "dti                     0.0\n",
       "delinq_2yrs             0.0\n",
       "pub_rec                 0.0\n",
       "pub_rec_bankruptcies    0.0\n",
       "dtype: float64"
      ]
     },
     "execution_count": 67,
     "metadata": {},
     "output_type": "execute_result"
    }
   ],
   "source": [
    "#Checking for missing values\n",
    "loan_data.isnull().sum() * 100 / len(loan_data)"
   ]
  },
  {
   "cell_type": "markdown",
   "id": "3feb3947",
   "metadata": {},
   "source": [
    "## Data Analysis"
   ]
  },
  {
   "cell_type": "markdown",
   "id": "07db20ad",
   "metadata": {},
   "source": [
    "### Univariate Analysis"
   ]
  },
  {
   "cell_type": "code",
   "execution_count": 79,
   "id": "8a625d6c",
   "metadata": {},
   "outputs": [
    {
     "data": {
      "image/png": "[encoded data removed]",
      "text/plain": [
       "<Figure size 800x600 with 1 Axes>"
      ]
     },
     "metadata": {},
     "output_type": "display_data"
    }
   ],
   "source": [
    "#Visualizing the count of Charged off and Fully Paid\n",
    "plt.figure(figsize=(8, 6))\n",
    "sns.countplot(x='loan_status', data=loan_data, palette='Oranges',width=0.5)\n",
    "plt.title('Loan Status Count')\n",
    "plt.xlabel('Loan Status')\n",
    "plt.ylabel('Count')\n",
    "plt.show()"
   ]
  },
  {
   "cell_type": "code",
   "execution_count": 82,
   "id": "ce3fe2f4",
   "metadata": {},
   "outputs": [
    {
     "name": "stdout",
     "output_type": "stream",
     "text": [
      "14.332238716856189\n"
     ]
    }
   ],
   "source": [
    "status_counts = loan_data['loan_status'].value_counts()\n",
    "print(status_counts['Charged Off'] / len(loan_data)* 100)"
   ]
  },
  {
   "cell_type": "markdown",
   "id": "672dd97b",
   "metadata": {},
   "source": [
    "OBSERVATION : About 14.33% loans were charged off."
   ]
  },
  {
   "cell_type": "code",
   "execution_count": 99,
   "id": "46a4bd67",
   "metadata": {},
   "outputs": [
    {
     "data": {
      "image/png": "[encoded data removed]",
      "text/plain": [
       "<Figure size 1400x4800 with 8 Axes>"
      ]
     },
     "metadata": {},
     "output_type": "display_data"
    }
   ],
   "source": [
    "sns.set(style=\"whitegrid\")\n",
    "\n",
    "categorical_vars = ['term', 'grade', 'sub_grade','emp_length','home_ownership','verification_status', 'purpose','addr_state']\n",
    "\n",
    "\n",
    "fig, axes = plt.subplots(nrows=len(categorical_vars), ncols=1, figsize=(14, 6 * len(categorical_vars)))\n",
    "\n",
    "\n",
    "for i, cat_var in enumerate(categorical_vars):\n",
    "    sns.countplot(x=cat_var, data=loan_data, ax=axes[i], palette='viridis')\n",
    "    axes[i].set_title(f'Box Plot of {cat_var}')\n",
    "\n",
    "\n",
    "\n",
    "plt.show()\n",
    "\n",
    "\n"
   ]
  },
  {
   "cell_type": "markdown",
   "id": "a5687add",
   "metadata": {},
   "source": [
    "OBSERVATIONS:\n",
    "1. most of the loans are taken for 36 months.\n",
    "2. most number of loans are taken in Grade B and least in Grade G\n",
    "3. most loans are taken by people with employment length greater tha or equal to 10 years.\n",
    "4. people living on rent are taking most loans.\n",
    "5. Most of the loans have status Not verified.\n",
    "6. debt_consolidation is major reason for taking loans.\n",
    "7. People of California have taken most loans."
   ]
  },
  {
   "cell_type": "code",
   "execution_count": null,
   "id": "e7b38562",
   "metadata": {},
   "outputs": [],
   "source": []
  }
 ],
 "metadata": {
  "kernelspec": {
   "display_name": "Python 3 (ipykernel)",
   "language": "python",
   "name": "python3"
  },
  "language_info": {
   "codemirror_mode": {
    "name": "ipython",
    "version": 3
   },
   "file_extension": ".py",
   "mimetype": "text/x-python",
   "name": "python",
   "nbconvert_exporter": "python",
   "pygments_lexer": "ipython3",
   "version": "3.11.4"
  }
 },
 "nbformat": 4,
 "nbformat_minor": 5
}
